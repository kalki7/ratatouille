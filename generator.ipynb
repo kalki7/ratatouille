{
 "cells": [
  {
   "cell_type": "code",
   "execution_count": 1,
   "metadata": {},
   "outputs": [],
   "source": [
    "from transformers import AutoTokenizer,AutoModelForCausalLM\n",
    "import pandas as pd"
   ]
  },
  {
   "cell_type": "code",
   "execution_count": 16,
   "metadata": {
    "scrolled": true
   },
   "outputs": [],
   "source": [
    "tokenizer = AutoTokenizer.from_pretrained('Test')\n",
    "model = AutoModelForCausalLM.from_pretrained('Test')"
   ]
  },
  {
   "cell_type": "code",
   "execution_count": 20,
   "metadata": {},
   "outputs": [
    {
     "data": {
      "text/plain": [
       "tensor([[41222,    25,   220,   198]])"
      ]
     },
     "execution_count": 20,
     "metadata": {},
     "output_type": "execute_result"
    }
   ],
   "source": [
    "prompt_text='Ingredients: \\n'\n",
    "\n",
    "encoded_prompt=tokenizer.encode(\n",
    "prompt_text,\n",
    "add_special_tokens=False,\n",
    "return_tensors='pt')\n",
    "\n",
    "encoded_prompt"
   ]
  },
  {
   "cell_type": "code",
   "execution_count": 23,
   "metadata": {},
   "outputs": [
    {
     "name": "stderr",
     "output_type": "stream",
     "text": [
      "Setting `pad_token_id` to 50256 (first `eos_token_id`) to generate sequence\n"
     ]
    }
   ],
   "source": [
    "op_seq=model.generate(\n",
    "    input_ids=encoded_prompt,\n",
    "    max_length=1000,\n",
    "    temperature=0.9,\n",
    "    top_k=20,\n",
    "top_p=0.9,\n",
    "repetition_penality=1,\n",
    "do_sample=True,\n",
    "num_return_sequences=1)"
   ]
  },
  {
   "cell_type": "code",
   "execution_count": 24,
   "metadata": {},
   "outputs": [
    {
     "name": "stdout",
     "output_type": "stream",
     "text": [
      "Ingredients: \n",
      " 1 large egg white \n",
      " 1 cup sugar \n",
      " 1/4 cup vegetable oil \n",
      " 1/2 teaspoon vanilla extract \n",
      " Pinch of salt \n",
      " 3 cups all-purpose flour \n",
      " 3/4 teaspoon baking powder \n",
      " 3/4 teaspoon baking soda \n",
      " 1/4 teaspoon salt \n",
      " 1 cup (1 stick) unsalted butter, softened \n",
      " 1 cup powdered sugar \n",
      " 1/2 cup plus 2 tablespoons whole milk \n",
      " 2 large eggs \n",
      " 1 cup heavy cream \n",
      " 1 cup powdered sugar \n",
      " 1/2 teaspoon vanilla extract \n",
      " Instructions: \n",
      " Special equipment: A 9-inch springform pan Preheat the oven to 350 degrees F. Line the bottom with parchment paper or silicone baking mats. In a large bowl, whisk together the egg white, sugar, oil and vanilla. Add the flour, baking powder, baking soda and salt. Beat the butter in a large bowl with a mixer on medium speed until creamy, about 3 minutes. With the mixer running, gradually add the sugar, 1/2 cup at a time, and mix until well incorporated. Add the flour mixture and beat until just incorporated. Transfer the batter to the prepared pan and smooth the top. Bake until the cake is puffed and a toothpick inserted in the center comes out clean, 45 to 50 minutes. Let cool in the pan for 10 minutes. Turn the cake out onto a wire rack to cool completely. (The cake can be made up to this point 1 day ahead. Store the cake in an airtight container at room temperature.) Preheat the oven to 350 degrees F. Line the bottom with parchment paper or silicone baking mats. In a large bowl, whisk together the egg white, sugar, oil and vanilla. Add the flour, baking powder, baking soda and salt. Beat the butter in a large bowl with a mixer on medium speed until creamy, about 3 minutes. With the mixer running, gradually add the sugar, 1/2 cup at a time, and mix until well incorporated. Add the flour mixture and beat until just incorporated. Transfer the batter to the prepared pan and smooth the top. Bake until the cake is puffed and a toothpick inserted in the center comes out clean, 45 to 50 minutes. Let cool in the pan for 10 minutes. Turn the cake out onto a wire rack to cool completely. (The cake can be made up to this point 1 day ahead. Store the cake in an airtight container at room temperature.) Make the chocolate sauce Combine the butter, powdered sugar, milk, eggs, cream, sugar, and vanilla in a large bowl and whisk until smooth. Pour the sauce over the cake and refrigerate for at least 1 hour and up to 3 hours before serving. (The sauce can be made up to 1 day ahead. Store the cake in an airtight container at room temperature.) Combine the butter, powdered sugar, milk, eggs, cream, sugar, and vanilla in a large bowl and whisk until smooth. Pour the sauce over the cake and refrigerate for at least 1 hour and up to 3 hours before serving. (The sauce can be made up to 1 day ahead. Store the cake in an airtight container at room temperature.) <|endoftext|>\n"
     ]
    }
   ],
   "source": [
    "op_seq[0]\n",
    "print(tokenizer.decode(op_seq[0]))\n"
   ]
  },
  {
   "cell_type": "code",
   "execution_count": 9,
   "metadata": {},
   "outputs": [],
   "source": [
    "tokenizer = AutoTokenizer.from_pretrained('distilgpt2')\n",
    "model = AutoModelForCausalLM.from_pretrained('distilgpt2')"
   ]
  },
  {
   "cell_type": "code",
   "execution_count": 11,
   "metadata": {},
   "outputs": [
    {
     "data": {
      "text/plain": [
       "tensor([[5308,  456, 2616,  318, 5586,  319,  257]])"
      ]
     },
     "execution_count": 11,
     "metadata": {},
     "output_type": "execute_result"
    }
   ],
   "source": [
    "prompt_text='Meghna is sitting on a'\n",
    "\n",
    "encoded_prompt=tokenizer.encode(\n",
    "prompt_text,\n",
    "add_special_tokens=False,\n",
    "return_tensors='pt')\n",
    "\n",
    "encoded_prompt"
   ]
  },
  {
   "cell_type": "code",
   "execution_count": 14,
   "metadata": {},
   "outputs": [
    {
     "name": "stderr",
     "output_type": "stream",
     "text": [
      "Setting `pad_token_id` to 50256 (first `eos_token_id`) to generate sequence\n"
     ]
    }
   ],
   "source": [
    "op_seq=model.generate(\n",
    "    input_ids=encoded_prompt,\n",
    "    max_length=1000,\n",
    "    temperature=0.9,\n",
    "    top_k=20,\n",
    "top_p=0.9,\n",
    "repetition_penality=1,\n",
    "do_sample=True,\n",
    "num_return_sequences=1)"
   ]
  },
  {
   "cell_type": "code",
   "execution_count": 15,
   "metadata": {},
   "outputs": [
    {
     "name": "stdout",
     "output_type": "stream",
     "text": [
      "Meghna is sitting on a desk at the corner of the building, and a small, tiny girl is sitting next to her.\n",
      "\n",
      "\n",
      "\n",
      "‪\n",
      "It‪\n",
      "The girl‪\n",
      "‪\n",
      "‪\n",
      "She‪\n",
      "‪\n",
      "The girl‪\n",
      "‪\n",
      "She‪\n",
      "She‪\n",
      "‪\n",
      "She‪\n",
      "‪\n",
      "‪\n",
      "It‪\n",
      "‪\n",
      "‪\n",
      "The girl‪\n",
      "‪\n",
      "‪\n",
      "The girl‪\n",
      "‪\n",
      "The girl‪\n",
      "‪\n",
      "‪\n",
      "The girl‪\n",
      "‪\n",
      "The girl‪\n",
      "‪\n",
      "The girl‪\n",
      "‪\n",
      "The girl‪\n",
      "The girl‪\n",
      "‪\n",
      "The girl‪\n",
      "The girl‪\n",
      "The girl‪\n",
      "The girl‪\n",
      "‪\n",
      "The girl‪\n",
      "The girl‪\n",
      "The girl‪\n",
      "‪\n",
      "The girl‪\n",
      "The girl‪\n",
      "‪\n",
      "The girl‪\n",
      "‪\n",
      "‪\n",
      "The girl‪\n",
      "The girl‪\n",
      "The girl‪\n",
      "The girl‪\n",
      "The girl‪\n",
      "The girl‪\n",
      "The girl‪\n",
      "‪\n",
      "The girl‪\n",
      "The girl‪\n",
      "The girl‪\n",
      "The girl‪\n",
      "The girl‪\n",
      "The girl‪\n",
      "The girl‪\n",
      "The girl‪\n",
      "The girl‪\n",
      "The girl‪\n",
      "‪\n",
      "The girl‪\n",
      "The girl‪\n",
      "The girl‪\n",
      "The girl‪\n",
      "The girl‪\n",
      "The girl‪\n",
      "The girl‪\n",
      "The girl‪\n",
      "The girl‪\n",
      "The girl‪\n",
      "The girl‪\n",
      "The girl‪\n",
      "The girl‪\n",
      "The girl‪\n",
      "The girl‪\n",
      "The girl‪\n",
      "The girl‪\n",
      "The girl‪\n",
      "The girl‪\n",
      "The girl‪\n",
      "The girl‪\n",
      "The girl‪\n",
      "The girl‪\n",
      "The girl‪\n",
      "The girl‪\n",
      "The girl‪\n",
      "The girl‪\n",
      "The girl‪\n",
      "The girl‪\n",
      "The girl‪\n",
      "The girl‪\n",
      "The girl‪\n",
      "The girl‪\n",
      "The girl‪\n",
      "The girl‪\n",
      "The girl‪\n",
      "The girl‪\n",
      "The girl‪\n",
      "The girl‪\n",
      "The girl‪\n",
      "The girl‪\n",
      "The girl‪\n",
      "The girl‪\n",
      "The girl‪\n",
      "The girl‪\n",
      "The girl‪\n",
      "The girl‪\n",
      "The girl‪\n",
      "The girl‪\n",
      "The girl‪\n",
      "The girl‪\n",
      "The girl‪\n",
      "The girl‪\n",
      "The girl‪\n",
      "The girl‪\n",
      "The girl‪\n",
      "The girl‪\n",
      "The girl‪\n",
      "The girl‪\n",
      "The girl‪\n",
      "The girl‪\n",
      "The girl‪\n",
      "The girl‪\n",
      "The girl‪\n",
      "The girl‪\n",
      "The girl‪\n",
      "The girl‪\n",
      "The girl‪\n",
      "The girl‪\n",
      "The girl‪\n",
      "The girl‪\n",
      "The girl‪\n",
      "The girl‪\n",
      "The girl‪\n",
      "The girl‪\n",
      "The girl‪\n",
      "The girl‪\n",
      "The girl‪\n",
      "The girl‪\n",
      "The girl‪\n",
      "The girl‪\n",
      "The girl‪\n",
      "The girl‪\n",
      "The girl‪\n",
      "The girl‪\n",
      "The girl‪\n",
      "The girl‪\n",
      "The girl‪\n",
      "The girl‪\n",
      "The girl‪\n",
      "The girl‪\n",
      "The girl‪\n",
      "The girl‪\n",
      "The girl‪\n",
      "The girl‪\n",
      "The girl‪\n",
      "The girl‪\n",
      "The girl‪\n",
      "The girl‪\n",
      "The girl‪\n",
      "The girl‪\n",
      "The girl‪\n",
      "The girl‪\n",
      "The girl‪\n",
      "The girl‪\n",
      "The girl‪\n",
      "The girl‪\n",
      "The girl‪\n",
      "The girl‪\n",
      "The girl‪\n",
      "The girl‪\n",
      "The girl‪\n",
      "The girl‪\n",
      "The girl‪\n",
      "The girl‪\n",
      "The girl‪\n",
      "The girl‪\n",
      "The girl‪\n",
      "The girl‪\n",
      "The girl‪\n",
      "The girl‪\n",
      "The girl‪\n",
      "The girl‪\n",
      "The girl‪\n",
      "The girl‪\n",
      "The girl‪\n",
      "The girl‪\n",
      "The girl‪\n",
      "The girl‪\n",
      "The girl‪\n",
      "The girl‪\n",
      "The girl‪\n",
      "The girl‪\n",
      "The girl‪\n",
      "The girl‪\n",
      "The girl‪\n",
      "The girl‪\n",
      "The girl‪\n",
      "The girl‪\n",
      "The girl‪\n",
      "The girl‪\n",
      "The<|endoftext|>\n"
     ]
    }
   ],
   "source": [
    "op_seq[0]\n",
    "print(tokenizer.decode(op_seq[0]))"
   ]
  },
  {
   "cell_type": "code",
   "execution_count": null,
   "metadata": {},
   "outputs": [],
   "source": []
  }
 ],
 "metadata": {
  "kernelspec": {
   "display_name": "Python 3",
   "language": "python",
   "name": "python3"
  },
  "language_info": {
   "codemirror_mode": {
    "name": "ipython",
    "version": 3
   },
   "file_extension": ".py",
   "mimetype": "text/x-python",
   "name": "python",
   "nbconvert_exporter": "python",
   "pygments_lexer": "ipython3",
   "version": "3.8.3"
  }
 },
 "nbformat": 4,
 "nbformat_minor": 4
}
